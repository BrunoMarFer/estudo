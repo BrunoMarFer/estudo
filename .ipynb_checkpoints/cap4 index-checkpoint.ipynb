{
 "cells": [
  {
   "cell_type": "code",
   "execution_count": 2,
   "id": "1d53153a-7bb2-4009-b230-4dc1ce204401",
   "metadata": {},
   "outputs": [],
   "source": [
    "#atribuindo uma string\n",
    "s = \"name\""
   ]
  },
  {
   "cell_type": "code",
   "execution_count": 4,
   "id": "abf92dce-7f5e-4e3e-adb5-b3d1dba1b393",
   "metadata": {},
   "outputs": [
    {
     "name": "stdout",
     "output_type": "stream",
     "text": [
      "name\n"
     ]
    }
   ],
   "source": [
    "print (s)"
   ]
  },
  {
   "cell_type": "code",
   "execution_count": 8,
   "id": "3bd0815d-396e-4bc4-9bd5-5f439ec7cfc0",
   "metadata": {},
   "outputs": [
    {
     "data": {
      "text/plain": [
       "'n'"
      ]
     },
     "execution_count": 8,
     "metadata": {},
     "output_type": "execute_result"
    }
   ],
   "source": [
    "#primeiro elemento da string ''index em python começa por 0''\n",
    "s[0]"
   ]
  },
  {
   "cell_type": "code",
   "execution_count": 9,
   "id": "739ef96b-3d25-4ed0-aca0-1f02c6227bf0",
   "metadata": {},
   "outputs": [
    {
     "data": {
      "text/plain": [
       "'e'"
      ]
     },
     "execution_count": 9,
     "metadata": {},
     "output_type": "execute_result"
    }
   ],
   "source": [
    "s[3]"
   ]
  },
  {
   "cell_type": "code",
   "execution_count": 11,
   "id": "ba9dafc4-c517-4ba8-bc2f-db77f950b517",
   "metadata": {},
   "outputs": [
    {
     "data": {
      "text/plain": [
       "'ame'"
      ]
     },
     "execution_count": 11,
     "metadata": {},
     "output_type": "execute_result"
    }
   ],
   "source": [
    "#retorna todos os elementos da string começando pela posição indicada, \n",
    "#lembrando que sempre começa na posição 0\n",
    "\n",
    "s[1:]"
   ]
  },
  {
   "cell_type": "code",
   "execution_count": 14,
   "id": "33ca67c8-af68-48c3-a56f-307b471cb335",
   "metadata": {},
   "outputs": [
    {
     "data": {
      "text/plain": [
       "'na'"
      ]
     },
     "execution_count": 14,
     "metadata": {},
     "output_type": "execute_result"
    }
   ],
   "source": [
    "#retorna todos os elementos da string finalizando até a posição indicada.\n",
    "\n",
    "s[:2]"
   ]
  },
  {
   "cell_type": "code",
   "execution_count": 15,
   "id": "b570098d-82f1-4a63-974a-1b74802da23a",
   "metadata": {},
   "outputs": [
    {
     "data": {
      "text/plain": [
       "'e'"
      ]
     },
     "execution_count": 15,
     "metadata": {},
     "output_type": "execute_result"
    }
   ],
   "source": [
    "#index de trás para frente, pode ser usada com o sinal de ' - ' (negativo)\n",
    "s[-1]"
   ]
  },
  {
   "cell_type": "code",
   "execution_count": 39,
   "id": "149ed19d-e0ca-4f5d-b4c0-17b67b8f27f3",
   "metadata": {},
   "outputs": [],
   "source": [
    "#a string é um objeto imutavel, não sendo possivel mudar elementos individuais, apenas mudança completa \n",
    "s = s + \"é como posso lhe chamar?\""
   ]
  },
  {
   "cell_type": "code",
   "execution_count": 40,
   "id": "7921005a-3ba2-4a47-b980-067988db2092",
   "metadata": {},
   "outputs": [
    {
     "name": "stdout",
     "output_type": "stream",
     "text": [
      "qual é a sua idade?qual é a sua idade?qual é a sua idadequal é o seu nomenameé o que vocẽ precisa para ser alguemé o que vocẽ precisa para ser alguemé o que vocẽ precisa para ser alguemé o que vocẽ precisa para ser alguemé o que vocẽ precisa para ser alguemé como posso lhe chamar?é como posso lhe chamar?é como posso lhe chamar?\n"
     ]
    }
   ],
   "source": [
    "print(s)"
   ]
  },
  {
   "cell_type": "code",
   "execution_count": 30,
   "id": "608903f4-3c07-4ea9-b971-a876334940fb",
   "metadata": {},
   "outputs": [
    {
     "data": {
      "text/plain": [
       "'QUAL É A SUA IDADE?QUAL É A SUA IDADE?QUAL É A SUA IDADEQUAL É O SEU NOMENAMEÉ O QUE VOCẼ PRECISA PARA SER ALGUEMÉ O QUE VOCẼ PRECISA PARA SER ALGUEMÉ O QUE VOCẼ PRECISA PARA SER ALGUEMÉ O QUE VOCẼ PRECISA PARA SER ALGUEMÉ O QUE VOCẼ PRECISA PARA SER ALGUEMÉ COMO POSSO LHE CHAMAR?É COMO POSSO LHE CHAMAR?'"
      ]
     },
     "execution_count": 30,
     "metadata": {},
     "output_type": "execute_result"
    }
   ],
   "source": [
    "s.upper()"
   ]
  },
  {
   "cell_type": "code",
   "execution_count": 38,
   "id": "4e7ff604-6d97-496d-b628-bb52f63693da",
   "metadata": {},
   "outputs": [
    {
     "data": {
      "text/plain": [
       "'QUAL É A SUA IDADE?QUAL É A SUA IDADE?QUAL É A SUA IDADEQUAL É O SEU NOMENAMEÉ O QUE VOCẼ PRECISA PARA SER ALGUEMÉ O QUE VOCẼ PRECISA PARA SER ALGUEMÉ O QUE VOCẼ PRECISA PARA SER ALGUEMÉ O QUE VOCẼ PRECISA PARA SER ALGUEMÉ O QUE VOCẼ PRECISA PARA SER ALGUEMÉ COMO POSSO LHE CHAMAR?É COMO POSSO LHE CHAMAR?'"
      ]
     },
     "execution_count": 38,
     "metadata": {},
     "output_type": "execute_result"
    }
   ],
   "source": [
    "s.upper()"
   ]
  },
  {
   "cell_type": "code",
   "execution_count": 41,
   "id": "e3d47a61-ed07-4a79-b6e4-d4e9048052f8",
   "metadata": {},
   "outputs": [
    {
     "data": {
      "text/plain": [
       "' '"
      ]
     },
     "execution_count": 41,
     "metadata": {},
     "output_type": "execute_result"
    }
   ],
   "source": [
    "min(s)"
   ]
  },
  {
   "cell_type": "code",
   "execution_count": 42,
   "id": "ba301866-0f51-4923-8d4a-149a2a5acb5a",
   "metadata": {},
   "outputs": [],
   "source": [
    "listadeteste = [1,2,3.5]"
   ]
  },
  {
   "cell_type": "code",
   "execution_count": 43,
   "id": "e9683f6d-75a7-4ce5-915e-bc2ae34b91bd",
   "metadata": {},
   "outputs": [
    {
     "data": {
      "text/plain": [
       "1"
      ]
     },
     "execution_count": 43,
     "metadata": {},
     "output_type": "execute_result"
    }
   ],
   "source": [
    "min(listadeteste)"
   ]
  },
  {
   "cell_type": "code",
   "execution_count": 44,
   "id": "dbbcf8bc-caad-4b88-85d4-d02e91697a06",
   "metadata": {},
   "outputs": [
    {
     "data": {
      "text/plain": [
       "3.5"
      ]
     },
     "execution_count": 44,
     "metadata": {},
     "output_type": "execute_result"
    }
   ],
   "source": [
    "max(listadeteste)"
   ]
  },
  {
   "cell_type": "code",
   "execution_count": 45,
   "id": "43ed01be-07a2-44e7-84d7-48b60b4c3baf",
   "metadata": {},
   "outputs": [
    {
     "data": {
      "text/plain": [
       "3"
      ]
     },
     "execution_count": 45,
     "metadata": {},
     "output_type": "execute_result"
    }
   ],
   "source": [
    "len(listadeteste)"
   ]
  },
  {
   "cell_type": "code",
   "execution_count": 46,
   "id": "80960325-5f53-45d9-8122-fd697dce13c4",
   "metadata": {},
   "outputs": [],
   "source": [
    "listadeteste.append(s)"
   ]
  },
  {
   "cell_type": "code",
   "execution_count": 47,
   "id": "e5aaa75e-44f1-4dcc-91cd-51e14badbeec",
   "metadata": {},
   "outputs": [
    {
     "data": {
      "text/plain": [
       "[1,\n",
       " 2,\n",
       " 3.5,\n",
       " 'qual é a sua idade?qual é a sua idade?qual é a sua idadequal é o seu nomenameé o que vocẽ precisa para ser alguemé o que vocẽ precisa para ser alguemé o que vocẽ precisa para ser alguemé o que vocẽ precisa para ser alguemé o que vocẽ precisa para ser alguemé como posso lhe chamar?é como posso lhe chamar?é como posso lhe chamar?']"
      ]
     },
     "execution_count": 47,
     "metadata": {},
     "output_type": "execute_result"
    }
   ],
   "source": [
    "listadeteste"
   ]
  },
  {
   "cell_type": "code",
   "execution_count": 1,
   "id": "f5f92c80-ae27-4727-a113-0cd9d7d0ad20",
   "metadata": {},
   "outputs": [
    {
     "name": "stdout",
     "output_type": "stream",
     "text": [
      "Oi\n"
     ]
    }
   ],
   "source": [
    "print(\"Oi\")"
   ]
  },
  {
   "cell_type": "code",
   "execution_count": null,
   "id": "3668bc9f-7bc1-433e-9f0b-05302efd2fda",
   "metadata": {},
   "outputs": [],
   "source": []
  }
 ],
 "metadata": {
  "kernelspec": {
   "display_name": "Python 3 (ipykernel)",
   "language": "python",
   "name": "python3"
  },
  "language_info": {
   "codemirror_mode": {
    "name": "ipython",
    "version": 3
   },
   "file_extension": ".py",
   "mimetype": "text/x-python",
   "name": "python",
   "nbconvert_exporter": "python",
   "pygments_lexer": "ipython3",
   "version": "3.10.12"
  }
 },
 "nbformat": 4,
 "nbformat_minor": 5
}
