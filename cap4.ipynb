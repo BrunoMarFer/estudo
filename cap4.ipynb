{
 "cells": [
  {
   "cell_type": "code",
   "execution_count": 1,
   "id": "a44108f5-b20d-49ec-b07b-4da469c294f9",
   "metadata": {},
   "outputs": [
    {
     "name": "stdout",
     "output_type": "stream",
     "text": [
      "bom dia, amigo\n"
     ]
    }
   ],
   "source": [
    "print (\"bom dia, amigo\")"
   ]
  },
  {
   "cell_type": "code",
   "execution_count": 6,
   "id": "fe2a7be4-c777-4fbf-8920-c09ec4cb86c6",
   "metadata": {},
   "outputs": [],
   "source": [
    "primeiro_nome = \"bruno\""
   ]
  },
  {
   "cell_type": "code",
   "execution_count": 7,
   "id": "2a18f62e-f9af-4c37-aecf-79ae88ae99ee",
   "metadata": {},
   "outputs": [],
   "source": [
    "sobrenome = \"marques\""
   ]
  },
  {
   "cell_type": "code",
   "execution_count": 8,
   "id": "2b7661da-4341-4400-aa36-56cf66d46df5",
   "metadata": {},
   "outputs": [],
   "source": [
    "fullName = primeiro_nome + \" \" + sobrenome"
   ]
  },
  {
   "cell_type": "code",
   "execution_count": 19,
   "id": "056ebc83-8a4a-4b34-b0f8-bc7a9917e350",
   "metadata": {},
   "outputs": [
    {
     "data": {
      "text/plain": [
       "'bruno marques'"
      ]
     },
     "execution_count": 19,
     "metadata": {},
     "output_type": "execute_result"
    }
   ],
   "source": [
    "fullName"
   ]
  },
  {
   "cell_type": "code",
   "execution_count": null,
   "id": "83b559e8-9700-4471-9dcf-68c975357da6",
   "metadata": {},
   "outputs": [],
   "source": []
  }
 ],
 "metadata": {
  "kernelspec": {
   "display_name": "Python 3 (ipykernel)",
   "language": "python",
   "name": "python3"
  },
  "language_info": {
   "codemirror_mode": {
    "name": "ipython",
    "version": 3
   },
   "file_extension": ".py",
   "mimetype": "text/x-python",
   "name": "python",
   "nbconvert_exporter": "python",
   "pygments_lexer": "ipython3",
   "version": "3.10.12"
  }
 },
 "nbformat": 4,
 "nbformat_minor": 5
}
